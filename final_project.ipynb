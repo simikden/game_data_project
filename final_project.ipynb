{
 "cells": [
  {
   "cell_type": "code",
   "execution_count": 155,
   "metadata": {},
   "outputs": [],
   "source": [
    "import pandas as pd\n",
    "from datetime import timedelta\n",
    "import matplotlib.pyplot as plt\n",
    "import seaborn as sns\n",
    "import scipy\n",
    "from scipy import stats \n",
    "import requests \n",
    "from urllib.parse import urlencode\n",
    "import warnings\n",
    "warnings.filterwarnings('ignore')\n",
    "import numpy as np"
   ]
  },
  {
   "cell_type": "markdown",
   "metadata": {},
   "source": [
    "##  Задание 1\n",
    "\n",
    "#### Retention – один из самых важных показателей в компании. Ваша задача – написать функцию, которая будет считать retention игроков (по дням от даты регистрации игрока)."
   ]
  },
  {
   "cell_type": "code",
   "execution_count": 156,
   "metadata": {},
   "outputs": [],
   "source": [
    "reg = pd.read_csv('/mnt/HC_Volume_18315164/home-jupyter/jupyter-maksim-gritsaj-khh-248a6/shared/problem1-reg_data.csv',sep = ';')\n",
    "auth = pd.read_csv('/mnt/HC_Volume_18315164/home-jupyter/jupyter-maksim-gritsaj-khh-248a6/shared/problem1-auth_data.csv', sep = ';')"
   ]
  },
  {
   "cell_type": "markdown",
   "metadata": {},
   "source": [
    "Посмотрим, как устроены данные"
   ]
  },
  {
   "cell_type": "code",
   "execution_count": 157,
   "metadata": {},
   "outputs": [
    {
     "data": {
      "text/html": [
       "<div>\n",
       "<style scoped>\n",
       "    .dataframe tbody tr th:only-of-type {\n",
       "        vertical-align: middle;\n",
       "    }\n",
       "\n",
       "    .dataframe tbody tr th {\n",
       "        vertical-align: top;\n",
       "    }\n",
       "\n",
       "    .dataframe thead th {\n",
       "        text-align: right;\n",
       "    }\n",
       "</style>\n",
       "<table border=\"1\" class=\"dataframe\">\n",
       "  <thead>\n",
       "    <tr style=\"text-align: right;\">\n",
       "      <th></th>\n",
       "      <th>reg_ts</th>\n",
       "      <th>uid</th>\n",
       "    </tr>\n",
       "  </thead>\n",
       "  <tbody>\n",
       "    <tr>\n",
       "      <th>0</th>\n",
       "      <td>911382223</td>\n",
       "      <td>1</td>\n",
       "    </tr>\n",
       "    <tr>\n",
       "      <th>1</th>\n",
       "      <td>932683089</td>\n",
       "      <td>2</td>\n",
       "    </tr>\n",
       "    <tr>\n",
       "      <th>2</th>\n",
       "      <td>947802447</td>\n",
       "      <td>3</td>\n",
       "    </tr>\n",
       "    <tr>\n",
       "      <th>3</th>\n",
       "      <td>959523541</td>\n",
       "      <td>4</td>\n",
       "    </tr>\n",
       "    <tr>\n",
       "      <th>4</th>\n",
       "      <td>969103313</td>\n",
       "      <td>5</td>\n",
       "    </tr>\n",
       "  </tbody>\n",
       "</table>\n",
       "</div>"
      ],
      "text/plain": [
       "      reg_ts  uid\n",
       "0  911382223    1\n",
       "1  932683089    2\n",
       "2  947802447    3\n",
       "3  959523541    4\n",
       "4  969103313    5"
      ]
     },
     "execution_count": 157,
     "metadata": {},
     "output_type": "execute_result"
    }
   ],
   "source": [
    "reg.head()"
   ]
  },
  {
   "cell_type": "code",
   "execution_count": 158,
   "metadata": {},
   "outputs": [
    {
     "data": {
      "text/html": [
       "<div>\n",
       "<style scoped>\n",
       "    .dataframe tbody tr th:only-of-type {\n",
       "        vertical-align: middle;\n",
       "    }\n",
       "\n",
       "    .dataframe tbody tr th {\n",
       "        vertical-align: top;\n",
       "    }\n",
       "\n",
       "    .dataframe thead th {\n",
       "        text-align: right;\n",
       "    }\n",
       "</style>\n",
       "<table border=\"1\" class=\"dataframe\">\n",
       "  <thead>\n",
       "    <tr style=\"text-align: right;\">\n",
       "      <th></th>\n",
       "      <th>auth_ts</th>\n",
       "      <th>uid</th>\n",
       "    </tr>\n",
       "  </thead>\n",
       "  <tbody>\n",
       "    <tr>\n",
       "      <th>0</th>\n",
       "      <td>911382223</td>\n",
       "      <td>1</td>\n",
       "    </tr>\n",
       "    <tr>\n",
       "      <th>1</th>\n",
       "      <td>932683089</td>\n",
       "      <td>2</td>\n",
       "    </tr>\n",
       "    <tr>\n",
       "      <th>2</th>\n",
       "      <td>932921206</td>\n",
       "      <td>2</td>\n",
       "    </tr>\n",
       "    <tr>\n",
       "      <th>3</th>\n",
       "      <td>933393015</td>\n",
       "      <td>2</td>\n",
       "    </tr>\n",
       "    <tr>\n",
       "      <th>4</th>\n",
       "      <td>933875379</td>\n",
       "      <td>2</td>\n",
       "    </tr>\n",
       "  </tbody>\n",
       "</table>\n",
       "</div>"
      ],
      "text/plain": [
       "     auth_ts  uid\n",
       "0  911382223    1\n",
       "1  932683089    2\n",
       "2  932921206    2\n",
       "3  933393015    2\n",
       "4  933875379    2"
      ]
     },
     "execution_count": 158,
     "metadata": {},
     "output_type": "execute_result"
    }
   ],
   "source": [
    "auth.head()"
   ]
  },
  {
   "cell_type": "markdown",
   "metadata": {},
   "source": [
    "Становится понятным, что соединить таблички можно по UID, а время представлено в формате epoch  "
   ]
  },
  {
   "cell_type": "code",
   "execution_count": 159,
   "metadata": {},
   "outputs": [
    {
     "data": {
      "text/plain": [
       "Timestamp('1998-11-18 09:43:43')"
      ]
     },
     "execution_count": 159,
     "metadata": {},
     "output_type": "execute_result"
    }
   ],
   "source": [
    "pd.to_datetime(reg['reg_ts'], unit='s').min()"
   ]
  },
  {
   "cell_type": "markdown",
   "metadata": {},
   "source": [
    "В условии нет подробностей о формате таблички, поэтому я решил сделать два варианта <p>\n",
    "(А также добавил выбор свежести данных, так как вряд ли кого то интересуют данные за 1998 год)"
   ]
  },
  {
   "cell_type": "markdown",
   "metadata": {},
   "source": [
    "Вариант №1 - Рассчет среднего retention для n дней (задается пользователем) с n-ной свежестью данных (задается пользователем)"
   ]
  },
  {
   "cell_type": "code",
   "execution_count": 160,
   "metadata": {},
   "outputs": [],
   "source": [
    "def mean_retention(auth_df, reg_df, reg_col, auth_col, id_col, from_when, retention_period):\n",
    "    \n",
    "    reg_df[reg_col] = pd.to_datetime(reg_df[reg_col], unit='s') \n",
    "    auth_df[auth_col] = pd.to_datetime(auth_df[auth_col], unit='s')\n",
    "    united_df = auth_df.merge(reg_df, on=id_col, how='left') \n",
    "    \n",
    "    # Берем данные только за нужный срок и убираем юзеров, у которых еще нет желаемого периода с регистрации\n",
    "    united_df =  united_df[(united_df[reg_col].max() - timedelta(days = retention_period)) > united_df[reg_col]]  \n",
    "    united_df =  united_df[united_df[reg_col] >= pd.to_datetime(from_when)] \n",
    "    \n",
    "    united_df['days'] = (united_df[auth_col] - united_df[reg_col]).dt.days # Дни с момента регистрации\n",
    "    \n",
    "    rt_table = (united_df.groupby('days')[id_col]\n",
    "               .nunique()\n",
    "               .reset_index()\n",
    "               .rename(columns={id_col: 'retention'}))\n",
    "    \n",
    "    rt_table['retention'] = rt_table['retention'] / united_df[id_col].nunique() # Считаем retention\n",
    "    rt_table = rt_table.iloc[:retention_period].set_index('days') # Ограничиваем период расчета \n",
    "    rt_table = rt_table.style.format(\"{:.2%}\") # И форматируем в проценты\n",
    "    \n",
    "    return rt_table\n"
   ]
  },
  {
   "cell_type": "code",
   "execution_count": 161,
   "metadata": {},
   "outputs": [
    {
     "data": {
      "text/html": [
       "<style  type=\"text/css\" >\n",
       "</style><table id=\"T_24858f62_4000_11f0_bdbb_96000040dfb6\" ><thead>    <tr>        <th class=\"blank level0\" ></th>        <th class=\"col_heading level0 col0\" >retention</th>    </tr>    <tr>        <th class=\"index_name level0\" >days</th>        <th class=\"blank\" ></th>    </tr></thead><tbody>\n",
       "                <tr>\n",
       "                        <th id=\"T_24858f62_4000_11f0_bdbb_96000040dfb6level0_row0\" class=\"row_heading level0 row0\" >0</th>\n",
       "                        <td id=\"T_24858f62_4000_11f0_bdbb_96000040dfb6row0_col0\" class=\"data row0 col0\" >100.00%</td>\n",
       "            </tr>\n",
       "            <tr>\n",
       "                        <th id=\"T_24858f62_4000_11f0_bdbb_96000040dfb6level0_row1\" class=\"row_heading level0 row1\" >1</th>\n",
       "                        <td id=\"T_24858f62_4000_11f0_bdbb_96000040dfb6row1_col0\" class=\"data row1 col0\" >4.03%</td>\n",
       "            </tr>\n",
       "            <tr>\n",
       "                        <th id=\"T_24858f62_4000_11f0_bdbb_96000040dfb6level0_row2\" class=\"row_heading level0 row2\" >2</th>\n",
       "                        <td id=\"T_24858f62_4000_11f0_bdbb_96000040dfb6row2_col0\" class=\"data row2 col0\" >4.33%</td>\n",
       "            </tr>\n",
       "            <tr>\n",
       "                        <th id=\"T_24858f62_4000_11f0_bdbb_96000040dfb6level0_row3\" class=\"row_heading level0 row3\" >3</th>\n",
       "                        <td id=\"T_24858f62_4000_11f0_bdbb_96000040dfb6row3_col0\" class=\"data row3 col0\" >4.94%</td>\n",
       "            </tr>\n",
       "            <tr>\n",
       "                        <th id=\"T_24858f62_4000_11f0_bdbb_96000040dfb6level0_row4\" class=\"row_heading level0 row4\" >4</th>\n",
       "                        <td id=\"T_24858f62_4000_11f0_bdbb_96000040dfb6row4_col0\" class=\"data row4 col0\" >5.66%</td>\n",
       "            </tr>\n",
       "            <tr>\n",
       "                        <th id=\"T_24858f62_4000_11f0_bdbb_96000040dfb6level0_row5\" class=\"row_heading level0 row5\" >5</th>\n",
       "                        <td id=\"T_24858f62_4000_11f0_bdbb_96000040dfb6row5_col0\" class=\"data row5 col0\" >6.42%</td>\n",
       "            </tr>\n",
       "            <tr>\n",
       "                        <th id=\"T_24858f62_4000_11f0_bdbb_96000040dfb6level0_row6\" class=\"row_heading level0 row6\" >6</th>\n",
       "                        <td id=\"T_24858f62_4000_11f0_bdbb_96000040dfb6row6_col0\" class=\"data row6 col0\" >7.36%</td>\n",
       "            </tr>\n",
       "            <tr>\n",
       "                        <th id=\"T_24858f62_4000_11f0_bdbb_96000040dfb6level0_row7\" class=\"row_heading level0 row7\" >7</th>\n",
       "                        <td id=\"T_24858f62_4000_11f0_bdbb_96000040dfb6row7_col0\" class=\"data row7 col0\" >4.41%</td>\n",
       "            </tr>\n",
       "            <tr>\n",
       "                        <th id=\"T_24858f62_4000_11f0_bdbb_96000040dfb6level0_row8\" class=\"row_heading level0 row8\" >8</th>\n",
       "                        <td id=\"T_24858f62_4000_11f0_bdbb_96000040dfb6row8_col0\" class=\"data row8 col0\" >5.04%</td>\n",
       "            </tr>\n",
       "            <tr>\n",
       "                        <th id=\"T_24858f62_4000_11f0_bdbb_96000040dfb6level0_row9\" class=\"row_heading level0 row9\" >9</th>\n",
       "                        <td id=\"T_24858f62_4000_11f0_bdbb_96000040dfb6row9_col0\" class=\"data row9 col0\" >5.11%</td>\n",
       "            </tr>\n",
       "            <tr>\n",
       "                        <th id=\"T_24858f62_4000_11f0_bdbb_96000040dfb6level0_row10\" class=\"row_heading level0 row10\" >10</th>\n",
       "                        <td id=\"T_24858f62_4000_11f0_bdbb_96000040dfb6row10_col0\" class=\"data row10 col0\" >5.20%</td>\n",
       "            </tr>\n",
       "            <tr>\n",
       "                        <th id=\"T_24858f62_4000_11f0_bdbb_96000040dfb6level0_row11\" class=\"row_heading level0 row11\" >11</th>\n",
       "                        <td id=\"T_24858f62_4000_11f0_bdbb_96000040dfb6row11_col0\" class=\"data row11 col0\" >5.14%</td>\n",
       "            </tr>\n",
       "            <tr>\n",
       "                        <th id=\"T_24858f62_4000_11f0_bdbb_96000040dfb6level0_row12\" class=\"row_heading level0 row12\" >12</th>\n",
       "                        <td id=\"T_24858f62_4000_11f0_bdbb_96000040dfb6row12_col0\" class=\"data row12 col0\" >5.03%</td>\n",
       "            </tr>\n",
       "            <tr>\n",
       "                        <th id=\"T_24858f62_4000_11f0_bdbb_96000040dfb6level0_row13\" class=\"row_heading level0 row13\" >13</th>\n",
       "                        <td id=\"T_24858f62_4000_11f0_bdbb_96000040dfb6row13_col0\" class=\"data row13 col0\" >4.72%</td>\n",
       "            </tr>\n",
       "            <tr>\n",
       "                        <th id=\"T_24858f62_4000_11f0_bdbb_96000040dfb6level0_row14\" class=\"row_heading level0 row14\" >14</th>\n",
       "                        <td id=\"T_24858f62_4000_11f0_bdbb_96000040dfb6row14_col0\" class=\"data row14 col0\" >4.54%</td>\n",
       "            </tr>\n",
       "            <tr>\n",
       "                        <th id=\"T_24858f62_4000_11f0_bdbb_96000040dfb6level0_row15\" class=\"row_heading level0 row15\" >15</th>\n",
       "                        <td id=\"T_24858f62_4000_11f0_bdbb_96000040dfb6row15_col0\" class=\"data row15 col0\" >4.56%</td>\n",
       "            </tr>\n",
       "            <tr>\n",
       "                        <th id=\"T_24858f62_4000_11f0_bdbb_96000040dfb6level0_row16\" class=\"row_heading level0 row16\" >16</th>\n",
       "                        <td id=\"T_24858f62_4000_11f0_bdbb_96000040dfb6row16_col0\" class=\"data row16 col0\" >4.44%</td>\n",
       "            </tr>\n",
       "            <tr>\n",
       "                        <th id=\"T_24858f62_4000_11f0_bdbb_96000040dfb6level0_row17\" class=\"row_heading level0 row17\" >17</th>\n",
       "                        <td id=\"T_24858f62_4000_11f0_bdbb_96000040dfb6row17_col0\" class=\"data row17 col0\" >4.30%</td>\n",
       "            </tr>\n",
       "            <tr>\n",
       "                        <th id=\"T_24858f62_4000_11f0_bdbb_96000040dfb6level0_row18\" class=\"row_heading level0 row18\" >18</th>\n",
       "                        <td id=\"T_24858f62_4000_11f0_bdbb_96000040dfb6row18_col0\" class=\"data row18 col0\" >4.18%</td>\n",
       "            </tr>\n",
       "            <tr>\n",
       "                        <th id=\"T_24858f62_4000_11f0_bdbb_96000040dfb6level0_row19\" class=\"row_heading level0 row19\" >19</th>\n",
       "                        <td id=\"T_24858f62_4000_11f0_bdbb_96000040dfb6row19_col0\" class=\"data row19 col0\" >4.06%</td>\n",
       "            </tr>\n",
       "            <tr>\n",
       "                        <th id=\"T_24858f62_4000_11f0_bdbb_96000040dfb6level0_row20\" class=\"row_heading level0 row20\" >20</th>\n",
       "                        <td id=\"T_24858f62_4000_11f0_bdbb_96000040dfb6row20_col0\" class=\"data row20 col0\" >3.94%</td>\n",
       "            </tr>\n",
       "            <tr>\n",
       "                        <th id=\"T_24858f62_4000_11f0_bdbb_96000040dfb6level0_row21\" class=\"row_heading level0 row21\" >21</th>\n",
       "                        <td id=\"T_24858f62_4000_11f0_bdbb_96000040dfb6row21_col0\" class=\"data row21 col0\" >3.83%</td>\n",
       "            </tr>\n",
       "            <tr>\n",
       "                        <th id=\"T_24858f62_4000_11f0_bdbb_96000040dfb6level0_row22\" class=\"row_heading level0 row22\" >22</th>\n",
       "                        <td id=\"T_24858f62_4000_11f0_bdbb_96000040dfb6row22_col0\" class=\"data row22 col0\" >3.73%</td>\n",
       "            </tr>\n",
       "            <tr>\n",
       "                        <th id=\"T_24858f62_4000_11f0_bdbb_96000040dfb6level0_row23\" class=\"row_heading level0 row23\" >23</th>\n",
       "                        <td id=\"T_24858f62_4000_11f0_bdbb_96000040dfb6row23_col0\" class=\"data row23 col0\" >3.61%</td>\n",
       "            </tr>\n",
       "            <tr>\n",
       "                        <th id=\"T_24858f62_4000_11f0_bdbb_96000040dfb6level0_row24\" class=\"row_heading level0 row24\" >24</th>\n",
       "                        <td id=\"T_24858f62_4000_11f0_bdbb_96000040dfb6row24_col0\" class=\"data row24 col0\" >3.43%</td>\n",
       "            </tr>\n",
       "            <tr>\n",
       "                        <th id=\"T_24858f62_4000_11f0_bdbb_96000040dfb6level0_row25\" class=\"row_heading level0 row25\" >25</th>\n",
       "                        <td id=\"T_24858f62_4000_11f0_bdbb_96000040dfb6row25_col0\" class=\"data row25 col0\" >3.35%</td>\n",
       "            </tr>\n",
       "            <tr>\n",
       "                        <th id=\"T_24858f62_4000_11f0_bdbb_96000040dfb6level0_row26\" class=\"row_heading level0 row26\" >26</th>\n",
       "                        <td id=\"T_24858f62_4000_11f0_bdbb_96000040dfb6row26_col0\" class=\"data row26 col0\" >3.26%</td>\n",
       "            </tr>\n",
       "            <tr>\n",
       "                        <th id=\"T_24858f62_4000_11f0_bdbb_96000040dfb6level0_row27\" class=\"row_heading level0 row27\" >27</th>\n",
       "                        <td id=\"T_24858f62_4000_11f0_bdbb_96000040dfb6row27_col0\" class=\"data row27 col0\" >3.10%</td>\n",
       "            </tr>\n",
       "            <tr>\n",
       "                        <th id=\"T_24858f62_4000_11f0_bdbb_96000040dfb6level0_row28\" class=\"row_heading level0 row28\" >28</th>\n",
       "                        <td id=\"T_24858f62_4000_11f0_bdbb_96000040dfb6row28_col0\" class=\"data row28 col0\" >3.00%</td>\n",
       "            </tr>\n",
       "            <tr>\n",
       "                        <th id=\"T_24858f62_4000_11f0_bdbb_96000040dfb6level0_row29\" class=\"row_heading level0 row29\" >29</th>\n",
       "                        <td id=\"T_24858f62_4000_11f0_bdbb_96000040dfb6row29_col0\" class=\"data row29 col0\" >2.87%</td>\n",
       "            </tr>\n",
       "            <tr>\n",
       "                        <th id=\"T_24858f62_4000_11f0_bdbb_96000040dfb6level0_row30\" class=\"row_heading level0 row30\" >30</th>\n",
       "                        <td id=\"T_24858f62_4000_11f0_bdbb_96000040dfb6row30_col0\" class=\"data row30 col0\" >2.75%</td>\n",
       "            </tr>\n",
       "    </tbody></table>"
      ],
      "text/plain": [
       "<pandas.io.formats.style.Styler at 0x7f40fe18f940>"
      ]
     },
     "execution_count": 161,
     "metadata": {},
     "output_type": "execute_result"
    }
   ],
   "source": [
    "mean_retention(auth_df = auth, reg_df = reg, reg_col = 'reg_ts', auth_col = 'auth_ts',\\\n",
    "               id_col = 'uid', from_when = '2017-10-05', retention_period = 31)"
   ]
  },
  {
   "cell_type": "markdown",
   "metadata": {},
   "source": [
    "Вариант №2 - Рассчет retention по когортам (свежесть когорт задается пользователем)"
   ]
  },
  {
   "cell_type": "code",
   "execution_count": 162,
   "metadata": {},
   "outputs": [],
   "source": [
    "def cohort_retention(auth_df, reg_df, reg_col, auth_col, id_col, from_when):\n",
    "    \n",
    "    reg_df[reg_col] = pd.to_datetime(reg_df[reg_col], unit='s') \n",
    "    auth_df[auth_col] = pd.to_datetime(auth_df[auth_col], unit='s')\n",
    "    united_df = auth_df.merge(reg_df, on=id_col, how='left') \n",
    "    \n",
    "    # Берем данные только за нужный срок                               \n",
    "    \n",
    "    united_df =  united_df[united_df[reg_col] >= pd.to_datetime(from_when)] \n",
    "    \n",
    "    united_df['days'] = (united_df[auth_col] - united_df[reg_col]).dt.days # Дни с момента регистрации\n",
    "    united_df[reg_col] = pd.to_datetime(united_df[reg_col]).dt.to_period(\"d\") # Делим юзеров на когорты\n",
    "    \n",
    "    \n",
    "    rt_table = united_df.pivot_table(index = reg_col, columns='days', values = id_col, aggfunc = 'nunique')\n",
    "    rt_table = rt_table.div(rt_table.iloc[:,0], axis = 0) # Делаем сводную таблицу и рассчитываем retention \n",
    "    \n",
    "    rt_table = rt_table.style.format(\"{:.2%}\",  na_rep= '') # И форматируем в проценты, а также убираем пропуски\n",
    "    \n",
    "    return rt_table"
   ]
  },
  {
   "cell_type": "code",
   "execution_count": 163,
   "metadata": {},
   "outputs": [
    {
     "data": {
      "text/html": [
       "<style  type=\"text/css\" >\n",
       "</style><table id=\"T_392b1950_4000_11f0_bdbb_96000040dfb6\" ><thead>    <tr>        <th class=\"index_name level0\" >days</th>        <th class=\"col_heading level0 col0\" >0</th>        <th class=\"col_heading level0 col1\" >1</th>        <th class=\"col_heading level0 col2\" >2</th>        <th class=\"col_heading level0 col3\" >3</th>        <th class=\"col_heading level0 col4\" >4</th>        <th class=\"col_heading level0 col5\" >5</th>        <th class=\"col_heading level0 col6\" >6</th>        <th class=\"col_heading level0 col7\" >7</th>        <th class=\"col_heading level0 col8\" >8</th>        <th class=\"col_heading level0 col9\" >9</th>        <th class=\"col_heading level0 col10\" >10</th>        <th class=\"col_heading level0 col11\" >11</th>        <th class=\"col_heading level0 col12\" >12</th>        <th class=\"col_heading level0 col13\" >13</th>    </tr>    <tr>        <th class=\"index_name level0\" >reg_ts</th>        <th class=\"blank\" ></th>        <th class=\"blank\" ></th>        <th class=\"blank\" ></th>        <th class=\"blank\" ></th>        <th class=\"blank\" ></th>        <th class=\"blank\" ></th>        <th class=\"blank\" ></th>        <th class=\"blank\" ></th>        <th class=\"blank\" ></th>        <th class=\"blank\" ></th>        <th class=\"blank\" ></th>        <th class=\"blank\" ></th>        <th class=\"blank\" ></th>        <th class=\"blank\" ></th>    </tr></thead><tbody>\n",
       "                <tr>\n",
       "                        <th id=\"T_392b1950_4000_11f0_bdbb_96000040dfb6level0_row0\" class=\"row_heading level0 row0\" >2020-09-10</th>\n",
       "                        <td id=\"T_392b1950_4000_11f0_bdbb_96000040dfb6row0_col0\" class=\"data row0 col0\" >100.00%</td>\n",
       "                        <td id=\"T_392b1950_4000_11f0_bdbb_96000040dfb6row0_col1\" class=\"data row0 col1\" >4.29%</td>\n",
       "                        <td id=\"T_392b1950_4000_11f0_bdbb_96000040dfb6row0_col2\" class=\"data row0 col2\" >3.98%</td>\n",
       "                        <td id=\"T_392b1950_4000_11f0_bdbb_96000040dfb6row0_col3\" class=\"data row0 col3\" >4.85%</td>\n",
       "                        <td id=\"T_392b1950_4000_11f0_bdbb_96000040dfb6row0_col4\" class=\"data row0 col4\" >5.84%</td>\n",
       "                        <td id=\"T_392b1950_4000_11f0_bdbb_96000040dfb6row0_col5\" class=\"data row0 col5\" >6.65%</td>\n",
       "                        <td id=\"T_392b1950_4000_11f0_bdbb_96000040dfb6row0_col6\" class=\"data row0 col6\" >7.09%</td>\n",
       "                        <td id=\"T_392b1950_4000_11f0_bdbb_96000040dfb6row0_col7\" class=\"data row0 col7\" >5.28%</td>\n",
       "                        <td id=\"T_392b1950_4000_11f0_bdbb_96000040dfb6row0_col8\" class=\"data row0 col8\" >4.41%</td>\n",
       "                        <td id=\"T_392b1950_4000_11f0_bdbb_96000040dfb6row0_col9\" class=\"data row0 col9\" >5.34%</td>\n",
       "                        <td id=\"T_392b1950_4000_11f0_bdbb_96000040dfb6row0_col10\" class=\"data row0 col10\" >5.28%</td>\n",
       "                        <td id=\"T_392b1950_4000_11f0_bdbb_96000040dfb6row0_col11\" class=\"data row0 col11\" >5.22%</td>\n",
       "                        <td id=\"T_392b1950_4000_11f0_bdbb_96000040dfb6row0_col12\" class=\"data row0 col12\" >4.85%</td>\n",
       "                        <td id=\"T_392b1950_4000_11f0_bdbb_96000040dfb6row0_col13\" class=\"data row0 col13\" >0.99%</td>\n",
       "            </tr>\n",
       "            <tr>\n",
       "                        <th id=\"T_392b1950_4000_11f0_bdbb_96000040dfb6level0_row1\" class=\"row_heading level0 row1\" >2020-09-11</th>\n",
       "                        <td id=\"T_392b1950_4000_11f0_bdbb_96000040dfb6row1_col0\" class=\"data row1 col0\" >100.00%</td>\n",
       "                        <td id=\"T_392b1950_4000_11f0_bdbb_96000040dfb6row1_col1\" class=\"data row1 col1\" >3.04%</td>\n",
       "                        <td id=\"T_392b1950_4000_11f0_bdbb_96000040dfb6row1_col2\" class=\"data row1 col2\" >4.34%</td>\n",
       "                        <td id=\"T_392b1950_4000_11f0_bdbb_96000040dfb6row1_col3\" class=\"data row1 col3\" >5.52%</td>\n",
       "                        <td id=\"T_392b1950_4000_11f0_bdbb_96000040dfb6row1_col4\" class=\"data row1 col4\" >5.58%</td>\n",
       "                        <td id=\"T_392b1950_4000_11f0_bdbb_96000040dfb6row1_col5\" class=\"data row1 col5\" >5.27%</td>\n",
       "                        <td id=\"T_392b1950_4000_11f0_bdbb_96000040dfb6row1_col6\" class=\"data row1 col6\" >8.50%</td>\n",
       "                        <td id=\"T_392b1950_4000_11f0_bdbb_96000040dfb6row1_col7\" class=\"data row1 col7\" >4.22%</td>\n",
       "                        <td id=\"T_392b1950_4000_11f0_bdbb_96000040dfb6row1_col8\" class=\"data row1 col8\" >4.28%</td>\n",
       "                        <td id=\"T_392b1950_4000_11f0_bdbb_96000040dfb6row1_col9\" class=\"data row1 col9\" >5.02%</td>\n",
       "                        <td id=\"T_392b1950_4000_11f0_bdbb_96000040dfb6row1_col10\" class=\"data row1 col10\" >5.71%</td>\n",
       "                        <td id=\"T_392b1950_4000_11f0_bdbb_96000040dfb6row1_col11\" class=\"data row1 col11\" >4.34%</td>\n",
       "                        <td id=\"T_392b1950_4000_11f0_bdbb_96000040dfb6row1_col12\" class=\"data row1 col12\" >1.49%</td>\n",
       "                        <td id=\"T_392b1950_4000_11f0_bdbb_96000040dfb6row1_col13\" class=\"data row1 col13\" ></td>\n",
       "            </tr>\n",
       "            <tr>\n",
       "                        <th id=\"T_392b1950_4000_11f0_bdbb_96000040dfb6level0_row2\" class=\"row_heading level0 row2\" >2020-09-12</th>\n",
       "                        <td id=\"T_392b1950_4000_11f0_bdbb_96000040dfb6row2_col0\" class=\"data row2 col0\" >100.00%</td>\n",
       "                        <td id=\"T_392b1950_4000_11f0_bdbb_96000040dfb6row2_col1\" class=\"data row2 col1\" >3.53%</td>\n",
       "                        <td id=\"T_392b1950_4000_11f0_bdbb_96000040dfb6row2_col2\" class=\"data row2 col2\" >4.89%</td>\n",
       "                        <td id=\"T_392b1950_4000_11f0_bdbb_96000040dfb6row2_col3\" class=\"data row2 col3\" >4.21%</td>\n",
       "                        <td id=\"T_392b1950_4000_11f0_bdbb_96000040dfb6row2_col4\" class=\"data row2 col4\" >5.64%</td>\n",
       "                        <td id=\"T_392b1950_4000_11f0_bdbb_96000040dfb6row2_col5\" class=\"data row2 col5\" >5.95%</td>\n",
       "                        <td id=\"T_392b1950_4000_11f0_bdbb_96000040dfb6row2_col6\" class=\"data row2 col6\" >7.37%</td>\n",
       "                        <td id=\"T_392b1950_4000_11f0_bdbb_96000040dfb6row2_col7\" class=\"data row2 col7\" >4.21%</td>\n",
       "                        <td id=\"T_392b1950_4000_11f0_bdbb_96000040dfb6row2_col8\" class=\"data row2 col8\" >5.51%</td>\n",
       "                        <td id=\"T_392b1950_4000_11f0_bdbb_96000040dfb6row2_col9\" class=\"data row2 col9\" >5.45%</td>\n",
       "                        <td id=\"T_392b1950_4000_11f0_bdbb_96000040dfb6row2_col10\" class=\"data row2 col10\" >4.71%</td>\n",
       "                        <td id=\"T_392b1950_4000_11f0_bdbb_96000040dfb6row2_col11\" class=\"data row2 col11\" >0.68%</td>\n",
       "                        <td id=\"T_392b1950_4000_11f0_bdbb_96000040dfb6row2_col12\" class=\"data row2 col12\" ></td>\n",
       "                        <td id=\"T_392b1950_4000_11f0_bdbb_96000040dfb6row2_col13\" class=\"data row2 col13\" ></td>\n",
       "            </tr>\n",
       "            <tr>\n",
       "                        <th id=\"T_392b1950_4000_11f0_bdbb_96000040dfb6level0_row3\" class=\"row_heading level0 row3\" >2020-09-13</th>\n",
       "                        <td id=\"T_392b1950_4000_11f0_bdbb_96000040dfb6row3_col0\" class=\"data row3 col0\" >100.00%</td>\n",
       "                        <td id=\"T_392b1950_4000_11f0_bdbb_96000040dfb6row3_col1\" class=\"data row3 col1\" >4.02%</td>\n",
       "                        <td id=\"T_392b1950_4000_11f0_bdbb_96000040dfb6row3_col2\" class=\"data row3 col2\" >3.96%</td>\n",
       "                        <td id=\"T_392b1950_4000_11f0_bdbb_96000040dfb6row3_col3\" class=\"data row3 col3\" >4.64%</td>\n",
       "                        <td id=\"T_392b1950_4000_11f0_bdbb_96000040dfb6row3_col4\" class=\"data row3 col4\" >6.12%</td>\n",
       "                        <td id=\"T_392b1950_4000_11f0_bdbb_96000040dfb6row3_col5\" class=\"data row3 col5\" >6.37%</td>\n",
       "                        <td id=\"T_392b1950_4000_11f0_bdbb_96000040dfb6row3_col6\" class=\"data row3 col6\" >6.00%</td>\n",
       "                        <td id=\"T_392b1950_4000_11f0_bdbb_96000040dfb6row3_col7\" class=\"data row3 col7\" >5.07%</td>\n",
       "                        <td id=\"T_392b1950_4000_11f0_bdbb_96000040dfb6row3_col8\" class=\"data row3 col8\" >4.20%</td>\n",
       "                        <td id=\"T_392b1950_4000_11f0_bdbb_96000040dfb6row3_col9\" class=\"data row3 col9\" >5.07%</td>\n",
       "                        <td id=\"T_392b1950_4000_11f0_bdbb_96000040dfb6row3_col10\" class=\"data row3 col10\" >1.24%</td>\n",
       "                        <td id=\"T_392b1950_4000_11f0_bdbb_96000040dfb6row3_col11\" class=\"data row3 col11\" ></td>\n",
       "                        <td id=\"T_392b1950_4000_11f0_bdbb_96000040dfb6row3_col12\" class=\"data row3 col12\" ></td>\n",
       "                        <td id=\"T_392b1950_4000_11f0_bdbb_96000040dfb6row3_col13\" class=\"data row3 col13\" ></td>\n",
       "            </tr>\n",
       "            <tr>\n",
       "                        <th id=\"T_392b1950_4000_11f0_bdbb_96000040dfb6level0_row4\" class=\"row_heading level0 row4\" >2020-09-14</th>\n",
       "                        <td id=\"T_392b1950_4000_11f0_bdbb_96000040dfb6row4_col0\" class=\"data row4 col0\" >100.00%</td>\n",
       "                        <td id=\"T_392b1950_4000_11f0_bdbb_96000040dfb6row4_col1\" class=\"data row4 col1\" >4.39%</td>\n",
       "                        <td id=\"T_392b1950_4000_11f0_bdbb_96000040dfb6row4_col2\" class=\"data row4 col2\" >3.95%</td>\n",
       "                        <td id=\"T_392b1950_4000_11f0_bdbb_96000040dfb6row4_col3\" class=\"data row4 col3\" >4.45%</td>\n",
       "                        <td id=\"T_392b1950_4000_11f0_bdbb_96000040dfb6row4_col4\" class=\"data row4 col4\" >6.24%</td>\n",
       "                        <td id=\"T_392b1950_4000_11f0_bdbb_96000040dfb6row4_col5\" class=\"data row4 col5\" >6.49%</td>\n",
       "                        <td id=\"T_392b1950_4000_11f0_bdbb_96000040dfb6row4_col6\" class=\"data row4 col6\" >7.66%</td>\n",
       "                        <td id=\"T_392b1950_4000_11f0_bdbb_96000040dfb6row4_col7\" class=\"data row4 col7\" >5.00%</td>\n",
       "                        <td id=\"T_392b1950_4000_11f0_bdbb_96000040dfb6row4_col8\" class=\"data row4 col8\" >3.77%</td>\n",
       "                        <td id=\"T_392b1950_4000_11f0_bdbb_96000040dfb6row4_col9\" class=\"data row4 col9\" >1.05%</td>\n",
       "                        <td id=\"T_392b1950_4000_11f0_bdbb_96000040dfb6row4_col10\" class=\"data row4 col10\" ></td>\n",
       "                        <td id=\"T_392b1950_4000_11f0_bdbb_96000040dfb6row4_col11\" class=\"data row4 col11\" ></td>\n",
       "                        <td id=\"T_392b1950_4000_11f0_bdbb_96000040dfb6row4_col12\" class=\"data row4 col12\" ></td>\n",
       "                        <td id=\"T_392b1950_4000_11f0_bdbb_96000040dfb6row4_col13\" class=\"data row4 col13\" ></td>\n",
       "            </tr>\n",
       "            <tr>\n",
       "                        <th id=\"T_392b1950_4000_11f0_bdbb_96000040dfb6level0_row5\" class=\"row_heading level0 row5\" >2020-09-15</th>\n",
       "                        <td id=\"T_392b1950_4000_11f0_bdbb_96000040dfb6row5_col0\" class=\"data row5 col0\" >100.00%</td>\n",
       "                        <td id=\"T_392b1950_4000_11f0_bdbb_96000040dfb6row5_col1\" class=\"data row5 col1\" >4.68%</td>\n",
       "                        <td id=\"T_392b1950_4000_11f0_bdbb_96000040dfb6row5_col2\" class=\"data row5 col2\" >3.70%</td>\n",
       "                        <td id=\"T_392b1950_4000_11f0_bdbb_96000040dfb6row5_col3\" class=\"data row5 col3\" >5.79%</td>\n",
       "                        <td id=\"T_392b1950_4000_11f0_bdbb_96000040dfb6row5_col4\" class=\"data row5 col4\" >5.18%</td>\n",
       "                        <td id=\"T_392b1950_4000_11f0_bdbb_96000040dfb6row5_col5\" class=\"data row5 col5\" >5.98%</td>\n",
       "                        <td id=\"T_392b1950_4000_11f0_bdbb_96000040dfb6row5_col6\" class=\"data row5 col6\" >7.76%</td>\n",
       "                        <td id=\"T_392b1950_4000_11f0_bdbb_96000040dfb6row5_col7\" class=\"data row5 col7\" >3.82%</td>\n",
       "                        <td id=\"T_392b1950_4000_11f0_bdbb_96000040dfb6row5_col8\" class=\"data row5 col8\" >0.62%</td>\n",
       "                        <td id=\"T_392b1950_4000_11f0_bdbb_96000040dfb6row5_col9\" class=\"data row5 col9\" ></td>\n",
       "                        <td id=\"T_392b1950_4000_11f0_bdbb_96000040dfb6row5_col10\" class=\"data row5 col10\" ></td>\n",
       "                        <td id=\"T_392b1950_4000_11f0_bdbb_96000040dfb6row5_col11\" class=\"data row5 col11\" ></td>\n",
       "                        <td id=\"T_392b1950_4000_11f0_bdbb_96000040dfb6row5_col12\" class=\"data row5 col12\" ></td>\n",
       "                        <td id=\"T_392b1950_4000_11f0_bdbb_96000040dfb6row5_col13\" class=\"data row5 col13\" ></td>\n",
       "            </tr>\n",
       "            <tr>\n",
       "                        <th id=\"T_392b1950_4000_11f0_bdbb_96000040dfb6level0_row6\" class=\"row_heading level0 row6\" >2020-09-16</th>\n",
       "                        <td id=\"T_392b1950_4000_11f0_bdbb_96000040dfb6row6_col0\" class=\"data row6 col0\" >100.00%</td>\n",
       "                        <td id=\"T_392b1950_4000_11f0_bdbb_96000040dfb6row6_col1\" class=\"data row6 col1\" >4.12%</td>\n",
       "                        <td id=\"T_392b1950_4000_11f0_bdbb_96000040dfb6row6_col2\" class=\"data row6 col2\" >3.75%</td>\n",
       "                        <td id=\"T_392b1950_4000_11f0_bdbb_96000040dfb6row6_col3\" class=\"data row6 col3\" >4.68%</td>\n",
       "                        <td id=\"T_392b1950_4000_11f0_bdbb_96000040dfb6row6_col4\" class=\"data row6 col4\" >6.34%</td>\n",
       "                        <td id=\"T_392b1950_4000_11f0_bdbb_96000040dfb6row6_col5\" class=\"data row6 col5\" >7.08%</td>\n",
       "                        <td id=\"T_392b1950_4000_11f0_bdbb_96000040dfb6row6_col6\" class=\"data row6 col6\" >5.91%</td>\n",
       "                        <td id=\"T_392b1950_4000_11f0_bdbb_96000040dfb6row6_col7\" class=\"data row6 col7\" >0.68%</td>\n",
       "                        <td id=\"T_392b1950_4000_11f0_bdbb_96000040dfb6row6_col8\" class=\"data row6 col8\" ></td>\n",
       "                        <td id=\"T_392b1950_4000_11f0_bdbb_96000040dfb6row6_col9\" class=\"data row6 col9\" ></td>\n",
       "                        <td id=\"T_392b1950_4000_11f0_bdbb_96000040dfb6row6_col10\" class=\"data row6 col10\" ></td>\n",
       "                        <td id=\"T_392b1950_4000_11f0_bdbb_96000040dfb6row6_col11\" class=\"data row6 col11\" ></td>\n",
       "                        <td id=\"T_392b1950_4000_11f0_bdbb_96000040dfb6row6_col12\" class=\"data row6 col12\" ></td>\n",
       "                        <td id=\"T_392b1950_4000_11f0_bdbb_96000040dfb6row6_col13\" class=\"data row6 col13\" ></td>\n",
       "            </tr>\n",
       "            <tr>\n",
       "                        <th id=\"T_392b1950_4000_11f0_bdbb_96000040dfb6level0_row7\" class=\"row_heading level0 row7\" >2020-09-17</th>\n",
       "                        <td id=\"T_392b1950_4000_11f0_bdbb_96000040dfb6row7_col0\" class=\"data row7 col0\" >100.00%</td>\n",
       "                        <td id=\"T_392b1950_4000_11f0_bdbb_96000040dfb6row7_col1\" class=\"data row7 col1\" >3.81%</td>\n",
       "                        <td id=\"T_392b1950_4000_11f0_bdbb_96000040dfb6row7_col2\" class=\"data row7 col2\" >4.12%</td>\n",
       "                        <td id=\"T_392b1950_4000_11f0_bdbb_96000040dfb6row7_col3\" class=\"data row7 col3\" >5.16%</td>\n",
       "                        <td id=\"T_392b1950_4000_11f0_bdbb_96000040dfb6row7_col4\" class=\"data row7 col4\" >5.90%</td>\n",
       "                        <td id=\"T_392b1950_4000_11f0_bdbb_96000040dfb6row7_col5\" class=\"data row7 col5\" >5.77%</td>\n",
       "                        <td id=\"T_392b1950_4000_11f0_bdbb_96000040dfb6row7_col6\" class=\"data row7 col6\" >1.72%</td>\n",
       "                        <td id=\"T_392b1950_4000_11f0_bdbb_96000040dfb6row7_col7\" class=\"data row7 col7\" ></td>\n",
       "                        <td id=\"T_392b1950_4000_11f0_bdbb_96000040dfb6row7_col8\" class=\"data row7 col8\" ></td>\n",
       "                        <td id=\"T_392b1950_4000_11f0_bdbb_96000040dfb6row7_col9\" class=\"data row7 col9\" ></td>\n",
       "                        <td id=\"T_392b1950_4000_11f0_bdbb_96000040dfb6row7_col10\" class=\"data row7 col10\" ></td>\n",
       "                        <td id=\"T_392b1950_4000_11f0_bdbb_96000040dfb6row7_col11\" class=\"data row7 col11\" ></td>\n",
       "                        <td id=\"T_392b1950_4000_11f0_bdbb_96000040dfb6row7_col12\" class=\"data row7 col12\" ></td>\n",
       "                        <td id=\"T_392b1950_4000_11f0_bdbb_96000040dfb6row7_col13\" class=\"data row7 col13\" ></td>\n",
       "            </tr>\n",
       "            <tr>\n",
       "                        <th id=\"T_392b1950_4000_11f0_bdbb_96000040dfb6level0_row8\" class=\"row_heading level0 row8\" >2020-09-18</th>\n",
       "                        <td id=\"T_392b1950_4000_11f0_bdbb_96000040dfb6row8_col0\" class=\"data row8 col0\" >100.00%</td>\n",
       "                        <td id=\"T_392b1950_4000_11f0_bdbb_96000040dfb6row8_col1\" class=\"data row8 col1\" >4.23%</td>\n",
       "                        <td id=\"T_392b1950_4000_11f0_bdbb_96000040dfb6row8_col2\" class=\"data row8 col2\" >3.87%</td>\n",
       "                        <td id=\"T_392b1950_4000_11f0_bdbb_96000040dfb6row8_col3\" class=\"data row8 col3\" >5.58%</td>\n",
       "                        <td id=\"T_392b1950_4000_11f0_bdbb_96000040dfb6row8_col4\" class=\"data row8 col4\" >4.72%</td>\n",
       "                        <td id=\"T_392b1950_4000_11f0_bdbb_96000040dfb6row8_col5\" class=\"data row8 col5\" >1.23%</td>\n",
       "                        <td id=\"T_392b1950_4000_11f0_bdbb_96000040dfb6row8_col6\" class=\"data row8 col6\" ></td>\n",
       "                        <td id=\"T_392b1950_4000_11f0_bdbb_96000040dfb6row8_col7\" class=\"data row8 col7\" ></td>\n",
       "                        <td id=\"T_392b1950_4000_11f0_bdbb_96000040dfb6row8_col8\" class=\"data row8 col8\" ></td>\n",
       "                        <td id=\"T_392b1950_4000_11f0_bdbb_96000040dfb6row8_col9\" class=\"data row8 col9\" ></td>\n",
       "                        <td id=\"T_392b1950_4000_11f0_bdbb_96000040dfb6row8_col10\" class=\"data row8 col10\" ></td>\n",
       "                        <td id=\"T_392b1950_4000_11f0_bdbb_96000040dfb6row8_col11\" class=\"data row8 col11\" ></td>\n",
       "                        <td id=\"T_392b1950_4000_11f0_bdbb_96000040dfb6row8_col12\" class=\"data row8 col12\" ></td>\n",
       "                        <td id=\"T_392b1950_4000_11f0_bdbb_96000040dfb6row8_col13\" class=\"data row8 col13\" ></td>\n",
       "            </tr>\n",
       "            <tr>\n",
       "                        <th id=\"T_392b1950_4000_11f0_bdbb_96000040dfb6level0_row9\" class=\"row_heading level0 row9\" >2020-09-19</th>\n",
       "                        <td id=\"T_392b1950_4000_11f0_bdbb_96000040dfb6row9_col0\" class=\"data row9 col0\" >100.00%</td>\n",
       "                        <td id=\"T_392b1950_4000_11f0_bdbb_96000040dfb6row9_col1\" class=\"data row9 col1\" >3.79%</td>\n",
       "                        <td id=\"T_392b1950_4000_11f0_bdbb_96000040dfb6row9_col2\" class=\"data row9 col2\" >3.73%</td>\n",
       "                        <td id=\"T_392b1950_4000_11f0_bdbb_96000040dfb6row9_col3\" class=\"data row9 col3\" >4.77%</td>\n",
       "                        <td id=\"T_392b1950_4000_11f0_bdbb_96000040dfb6row9_col4\" class=\"data row9 col4\" >1.29%</td>\n",
       "                        <td id=\"T_392b1950_4000_11f0_bdbb_96000040dfb6row9_col5\" class=\"data row9 col5\" ></td>\n",
       "                        <td id=\"T_392b1950_4000_11f0_bdbb_96000040dfb6row9_col6\" class=\"data row9 col6\" ></td>\n",
       "                        <td id=\"T_392b1950_4000_11f0_bdbb_96000040dfb6row9_col7\" class=\"data row9 col7\" ></td>\n",
       "                        <td id=\"T_392b1950_4000_11f0_bdbb_96000040dfb6row9_col8\" class=\"data row9 col8\" ></td>\n",
       "                        <td id=\"T_392b1950_4000_11f0_bdbb_96000040dfb6row9_col9\" class=\"data row9 col9\" ></td>\n",
       "                        <td id=\"T_392b1950_4000_11f0_bdbb_96000040dfb6row9_col10\" class=\"data row9 col10\" ></td>\n",
       "                        <td id=\"T_392b1950_4000_11f0_bdbb_96000040dfb6row9_col11\" class=\"data row9 col11\" ></td>\n",
       "                        <td id=\"T_392b1950_4000_11f0_bdbb_96000040dfb6row9_col12\" class=\"data row9 col12\" ></td>\n",
       "                        <td id=\"T_392b1950_4000_11f0_bdbb_96000040dfb6row9_col13\" class=\"data row9 col13\" ></td>\n",
       "            </tr>\n",
       "            <tr>\n",
       "                        <th id=\"T_392b1950_4000_11f0_bdbb_96000040dfb6level0_row10\" class=\"row_heading level0 row10\" >2020-09-20</th>\n",
       "                        <td id=\"T_392b1950_4000_11f0_bdbb_96000040dfb6row10_col0\" class=\"data row10 col0\" >100.00%</td>\n",
       "                        <td id=\"T_392b1950_4000_11f0_bdbb_96000040dfb6row10_col1\" class=\"data row10 col1\" >4.34%</td>\n",
       "                        <td id=\"T_392b1950_4000_11f0_bdbb_96000040dfb6row10_col2\" class=\"data row10 col2\" >3.73%</td>\n",
       "                        <td id=\"T_392b1950_4000_11f0_bdbb_96000040dfb6row10_col3\" class=\"data row10 col3\" >1.10%</td>\n",
       "                        <td id=\"T_392b1950_4000_11f0_bdbb_96000040dfb6row10_col4\" class=\"data row10 col4\" ></td>\n",
       "                        <td id=\"T_392b1950_4000_11f0_bdbb_96000040dfb6row10_col5\" class=\"data row10 col5\" ></td>\n",
       "                        <td id=\"T_392b1950_4000_11f0_bdbb_96000040dfb6row10_col6\" class=\"data row10 col6\" ></td>\n",
       "                        <td id=\"T_392b1950_4000_11f0_bdbb_96000040dfb6row10_col7\" class=\"data row10 col7\" ></td>\n",
       "                        <td id=\"T_392b1950_4000_11f0_bdbb_96000040dfb6row10_col8\" class=\"data row10 col8\" ></td>\n",
       "                        <td id=\"T_392b1950_4000_11f0_bdbb_96000040dfb6row10_col9\" class=\"data row10 col9\" ></td>\n",
       "                        <td id=\"T_392b1950_4000_11f0_bdbb_96000040dfb6row10_col10\" class=\"data row10 col10\" ></td>\n",
       "                        <td id=\"T_392b1950_4000_11f0_bdbb_96000040dfb6row10_col11\" class=\"data row10 col11\" ></td>\n",
       "                        <td id=\"T_392b1950_4000_11f0_bdbb_96000040dfb6row10_col12\" class=\"data row10 col12\" ></td>\n",
       "                        <td id=\"T_392b1950_4000_11f0_bdbb_96000040dfb6row10_col13\" class=\"data row10 col13\" ></td>\n",
       "            </tr>\n",
       "            <tr>\n",
       "                        <th id=\"T_392b1950_4000_11f0_bdbb_96000040dfb6level0_row11\" class=\"row_heading level0 row11\" >2020-09-21</th>\n",
       "                        <td id=\"T_392b1950_4000_11f0_bdbb_96000040dfb6row11_col0\" class=\"data row11 col0\" >100.00%</td>\n",
       "                        <td id=\"T_392b1950_4000_11f0_bdbb_96000040dfb6row11_col1\" class=\"data row11 col1\" >4.15%</td>\n",
       "                        <td id=\"T_392b1950_4000_11f0_bdbb_96000040dfb6row11_col2\" class=\"data row11 col2\" >0.73%</td>\n",
       "                        <td id=\"T_392b1950_4000_11f0_bdbb_96000040dfb6row11_col3\" class=\"data row11 col3\" ></td>\n",
       "                        <td id=\"T_392b1950_4000_11f0_bdbb_96000040dfb6row11_col4\" class=\"data row11 col4\" ></td>\n",
       "                        <td id=\"T_392b1950_4000_11f0_bdbb_96000040dfb6row11_col5\" class=\"data row11 col5\" ></td>\n",
       "                        <td id=\"T_392b1950_4000_11f0_bdbb_96000040dfb6row11_col6\" class=\"data row11 col6\" ></td>\n",
       "                        <td id=\"T_392b1950_4000_11f0_bdbb_96000040dfb6row11_col7\" class=\"data row11 col7\" ></td>\n",
       "                        <td id=\"T_392b1950_4000_11f0_bdbb_96000040dfb6row11_col8\" class=\"data row11 col8\" ></td>\n",
       "                        <td id=\"T_392b1950_4000_11f0_bdbb_96000040dfb6row11_col9\" class=\"data row11 col9\" ></td>\n",
       "                        <td id=\"T_392b1950_4000_11f0_bdbb_96000040dfb6row11_col10\" class=\"data row11 col10\" ></td>\n",
       "                        <td id=\"T_392b1950_4000_11f0_bdbb_96000040dfb6row11_col11\" class=\"data row11 col11\" ></td>\n",
       "                        <td id=\"T_392b1950_4000_11f0_bdbb_96000040dfb6row11_col12\" class=\"data row11 col12\" ></td>\n",
       "                        <td id=\"T_392b1950_4000_11f0_bdbb_96000040dfb6row11_col13\" class=\"data row11 col13\" ></td>\n",
       "            </tr>\n",
       "            <tr>\n",
       "                        <th id=\"T_392b1950_4000_11f0_bdbb_96000040dfb6level0_row12\" class=\"row_heading level0 row12\" >2020-09-22</th>\n",
       "                        <td id=\"T_392b1950_4000_11f0_bdbb_96000040dfb6row12_col0\" class=\"data row12 col0\" >100.00%</td>\n",
       "                        <td id=\"T_392b1950_4000_11f0_bdbb_96000040dfb6row12_col1\" class=\"data row12 col1\" >0.85%</td>\n",
       "                        <td id=\"T_392b1950_4000_11f0_bdbb_96000040dfb6row12_col2\" class=\"data row12 col2\" ></td>\n",
       "                        <td id=\"T_392b1950_4000_11f0_bdbb_96000040dfb6row12_col3\" class=\"data row12 col3\" ></td>\n",
       "                        <td id=\"T_392b1950_4000_11f0_bdbb_96000040dfb6row12_col4\" class=\"data row12 col4\" ></td>\n",
       "                        <td id=\"T_392b1950_4000_11f0_bdbb_96000040dfb6row12_col5\" class=\"data row12 col5\" ></td>\n",
       "                        <td id=\"T_392b1950_4000_11f0_bdbb_96000040dfb6row12_col6\" class=\"data row12 col6\" ></td>\n",
       "                        <td id=\"T_392b1950_4000_11f0_bdbb_96000040dfb6row12_col7\" class=\"data row12 col7\" ></td>\n",
       "                        <td id=\"T_392b1950_4000_11f0_bdbb_96000040dfb6row12_col8\" class=\"data row12 col8\" ></td>\n",
       "                        <td id=\"T_392b1950_4000_11f0_bdbb_96000040dfb6row12_col9\" class=\"data row12 col9\" ></td>\n",
       "                        <td id=\"T_392b1950_4000_11f0_bdbb_96000040dfb6row12_col10\" class=\"data row12 col10\" ></td>\n",
       "                        <td id=\"T_392b1950_4000_11f0_bdbb_96000040dfb6row12_col11\" class=\"data row12 col11\" ></td>\n",
       "                        <td id=\"T_392b1950_4000_11f0_bdbb_96000040dfb6row12_col12\" class=\"data row12 col12\" ></td>\n",
       "                        <td id=\"T_392b1950_4000_11f0_bdbb_96000040dfb6row12_col13\" class=\"data row12 col13\" ></td>\n",
       "            </tr>\n",
       "            <tr>\n",
       "                        <th id=\"T_392b1950_4000_11f0_bdbb_96000040dfb6level0_row13\" class=\"row_heading level0 row13\" >2020-09-23</th>\n",
       "                        <td id=\"T_392b1950_4000_11f0_bdbb_96000040dfb6row13_col0\" class=\"data row13 col0\" >100.00%</td>\n",
       "                        <td id=\"T_392b1950_4000_11f0_bdbb_96000040dfb6row13_col1\" class=\"data row13 col1\" ></td>\n",
       "                        <td id=\"T_392b1950_4000_11f0_bdbb_96000040dfb6row13_col2\" class=\"data row13 col2\" ></td>\n",
       "                        <td id=\"T_392b1950_4000_11f0_bdbb_96000040dfb6row13_col3\" class=\"data row13 col3\" ></td>\n",
       "                        <td id=\"T_392b1950_4000_11f0_bdbb_96000040dfb6row13_col4\" class=\"data row13 col4\" ></td>\n",
       "                        <td id=\"T_392b1950_4000_11f0_bdbb_96000040dfb6row13_col5\" class=\"data row13 col5\" ></td>\n",
       "                        <td id=\"T_392b1950_4000_11f0_bdbb_96000040dfb6row13_col6\" class=\"data row13 col6\" ></td>\n",
       "                        <td id=\"T_392b1950_4000_11f0_bdbb_96000040dfb6row13_col7\" class=\"data row13 col7\" ></td>\n",
       "                        <td id=\"T_392b1950_4000_11f0_bdbb_96000040dfb6row13_col8\" class=\"data row13 col8\" ></td>\n",
       "                        <td id=\"T_392b1950_4000_11f0_bdbb_96000040dfb6row13_col9\" class=\"data row13 col9\" ></td>\n",
       "                        <td id=\"T_392b1950_4000_11f0_bdbb_96000040dfb6row13_col10\" class=\"data row13 col10\" ></td>\n",
       "                        <td id=\"T_392b1950_4000_11f0_bdbb_96000040dfb6row13_col11\" class=\"data row13 col11\" ></td>\n",
       "                        <td id=\"T_392b1950_4000_11f0_bdbb_96000040dfb6row13_col12\" class=\"data row13 col12\" ></td>\n",
       "                        <td id=\"T_392b1950_4000_11f0_bdbb_96000040dfb6row13_col13\" class=\"data row13 col13\" ></td>\n",
       "            </tr>\n",
       "    </tbody></table>"
      ],
      "text/plain": [
       "<pandas.io.formats.style.Styler at 0x7f41193a6cf8>"
      ]
     },
     "execution_count": 163,
     "metadata": {},
     "output_type": "execute_result"
    }
   ],
   "source": [
    "cohort_retention(auth_df = auth, reg_df = reg, reg_col = 'reg_ts', auth_col = 'auth_ts',\\\n",
    "               id_col = 'uid', from_when = '2020-09-10')"
   ]
  },
  {
   "cell_type": "markdown",
   "metadata": {},
   "source": [
    "## Задание 2\n",
    "#### Имеются результаты A/B теста, в котором двум группам пользователей предлагались различные наборы акционных предложений. Известно, что ARPU в тестовой группе выше на 5%, чем в контрольной. При этом в контрольной группе 1928 игроков из 202103 оказались платящими, а в тестовой – 1805 из 202667.\n",
    "\n",
    "#### Какой набор предложений можно считать лучшим? Какие метрики стоит проанализировать для принятия правильного решения и как?"
   ]
  },
  {
   "cell_type": "code",
   "execution_count": 164,
   "metadata": {},
   "outputs": [],
   "source": [
    "api_url      = 'https://cloud-api.yandex.net/v1/disk/public/resources/download?' \n",
    "key_research = 'https://disk.yandex.ru/d/SOkIsD5A8xlI7Q' \n",
    "\n",
    "url_research = api_url + urlencode(dict(public_key=key_research)) \n",
    "\n",
    "resp_research = requests.get(url_research) \n",
    "\n",
    "download_research = resp_research.json()['href']\n",
    "\n",
    "research = pd.read_csv(download_research, sep = ';')"
   ]
  },
  {
   "cell_type": "code",
   "execution_count": 165,
   "metadata": {},
   "outputs": [
    {
     "data": {
      "text/html": [
       "<div>\n",
       "<style scoped>\n",
       "    .dataframe tbody tr th:only-of-type {\n",
       "        vertical-align: middle;\n",
       "    }\n",
       "\n",
       "    .dataframe tbody tr th {\n",
       "        vertical-align: top;\n",
       "    }\n",
       "\n",
       "    .dataframe thead th {\n",
       "        text-align: right;\n",
       "    }\n",
       "</style>\n",
       "<table border=\"1\" class=\"dataframe\">\n",
       "  <thead>\n",
       "    <tr style=\"text-align: right;\">\n",
       "      <th></th>\n",
       "      <th>user_id</th>\n",
       "      <th>revenue</th>\n",
       "      <th>testgroup</th>\n",
       "    </tr>\n",
       "  </thead>\n",
       "  <tbody>\n",
       "    <tr>\n",
       "      <th>0</th>\n",
       "      <td>1</td>\n",
       "      <td>0</td>\n",
       "      <td>b</td>\n",
       "    </tr>\n",
       "    <tr>\n",
       "      <th>1</th>\n",
       "      <td>2</td>\n",
       "      <td>0</td>\n",
       "      <td>a</td>\n",
       "    </tr>\n",
       "    <tr>\n",
       "      <th>2</th>\n",
       "      <td>3</td>\n",
       "      <td>0</td>\n",
       "      <td>a</td>\n",
       "    </tr>\n",
       "    <tr>\n",
       "      <th>3</th>\n",
       "      <td>4</td>\n",
       "      <td>0</td>\n",
       "      <td>b</td>\n",
       "    </tr>\n",
       "    <tr>\n",
       "      <th>4</th>\n",
       "      <td>5</td>\n",
       "      <td>0</td>\n",
       "      <td>b</td>\n",
       "    </tr>\n",
       "  </tbody>\n",
       "</table>\n",
       "</div>"
      ],
      "text/plain": [
       "   user_id  revenue testgroup\n",
       "0        1        0         b\n",
       "1        2        0         a\n",
       "2        3        0         a\n",
       "3        4        0         b\n",
       "4        5        0         b"
      ]
     },
     "execution_count": 165,
     "metadata": {},
     "output_type": "execute_result"
    }
   ],
   "source": [
    "research.head()"
   ]
  },
  {
   "cell_type": "markdown",
   "metadata": {},
   "source": [
    "Проверим данные из условий"
   ]
  },
  {
   "cell_type": "code",
   "execution_count": 166,
   "metadata": {},
   "outputs": [
    {
     "data": {
      "text/plain": [
       "user_id      1805\n",
       "revenue      1805\n",
       "testgroup    1805\n",
       "dtype: int64"
      ]
     },
     "execution_count": 166,
     "metadata": {},
     "output_type": "execute_result"
    }
   ],
   "source": [
    "research.query('revenue > 0 and testgroup == \"b\"').count()"
   ]
  },
  {
   "cell_type": "code",
   "execution_count": 167,
   "metadata": {},
   "outputs": [
    {
     "data": {
      "text/plain": [
       "user_id      1928\n",
       "revenue      1928\n",
       "testgroup    1928\n",
       "dtype: int64"
      ]
     },
     "execution_count": 167,
     "metadata": {},
     "output_type": "execute_result"
    }
   ],
   "source": [
    "research.query('revenue > 0 and testgroup == \"a\"').count()"
   ]
  },
  {
   "cell_type": "code",
   "execution_count": 168,
   "metadata": {},
   "outputs": [
    {
     "data": {
      "text/plain": [
       "user_id      202103\n",
       "revenue      202103\n",
       "testgroup    202103\n",
       "dtype: int64"
      ]
     },
     "execution_count": 168,
     "metadata": {},
     "output_type": "execute_result"
    }
   ],
   "source": [
    "research.query('testgroup == \"a\"').count()"
   ]
  },
  {
   "cell_type": "code",
   "execution_count": 169,
   "metadata": {},
   "outputs": [
    {
     "data": {
      "text/plain": [
       "user_id      202667\n",
       "revenue      202667\n",
       "testgroup    202667\n",
       "dtype: int64"
      ]
     },
     "execution_count": 169,
     "metadata": {},
     "output_type": "execute_result"
    }
   ],
   "source": [
    "research.query('testgroup == \"b\"').count()"
   ]
  },
  {
   "cell_type": "markdown",
   "metadata": {},
   "source": [
    "Условия задачи не солгали. Плюс размеры выборок примерно равны, что тоже хорошо"
   ]
  },
  {
   "cell_type": "markdown",
   "metadata": {},
   "source": [
    "\n",
    "Итак, для начала стоит обратить внимание на уже названную в задании метрику - \n",
    "#### Average Revenue Per User <p>\n",
    "Но так как мы имеем дело с разными по размеру выборками, а также разной долей платящих, предлагаю проанализировать именно Average Revenue Per Paying User  \n",
    " <p>   (про конверсию в платящего поговорим отдельно)"
   ]
  },
  {
   "cell_type": "code",
   "execution_count": 170,
   "metadata": {},
   "outputs": [
    {
     "data": {
      "text/plain": [
       "count    1805.000000\n",
       "mean     3003.658172\n",
       "std       572.619709\n",
       "min      2000.000000\n",
       "25%      2513.000000\n",
       "50%      3022.000000\n",
       "75%      3478.000000\n",
       "max      4000.000000\n",
       "Name: revenue, dtype: float64"
      ]
     },
     "execution_count": 170,
     "metadata": {},
     "output_type": "execute_result"
    }
   ],
   "source": [
    "group_b = research.query('revenue > 0 and testgroup == \"b\"').revenue\n",
    "group_b.describe()"
   ]
  },
  {
   "cell_type": "code",
   "execution_count": 171,
   "metadata": {},
   "outputs": [
    {
     "data": {
      "text/plain": [
       "count     1928.000000\n",
       "mean      2663.998444\n",
       "std       9049.039763\n",
       "min        200.000000\n",
       "25%        257.000000\n",
       "50%        311.000000\n",
       "75%        361.000000\n",
       "max      37433.000000\n",
       "Name: revenue, dtype: float64"
      ]
     },
     "execution_count": 171,
     "metadata": {},
     "output_type": "execute_result"
    }
   ],
   "source": [
    "group_a = research.query('revenue > 0 and testgroup == \"a\"').revenue\n",
    "group_a.describe()"
   ]
  },
  {
   "cell_type": "markdown",
   "metadata": {},
   "source": [
    "Чисто по цифрам группа B не вызывает больших вопросов, а вот группа А вынуждает провести тест на аутлаеры "
   ]
  },
  {
   "cell_type": "code",
   "execution_count": 172,
   "metadata": {},
   "outputs": [
    {
     "name": "stdout",
     "output_type": "stream",
     "text": [
      "Аутлаеры в группе В: Series([], Name: revenue, dtype: int64)\n",
      "Аутлаеры в группе А: 416       37324\n",
      "4428      37304\n",
      "5777      37315\n",
      "8065      37307\n",
      "8743      37334\n",
      "          ...  \n",
      "360696    37347\n",
      "378668    37297\n",
      "389341    37298\n",
      "394580    37302\n",
      "399294    37321\n",
      "Name: revenue, Length: 123, dtype: int64\n"
     ]
    }
   ],
   "source": [
    "# Воспользуемся методом стандартного отклонения\n",
    "\n",
    "def detect_outliers_zscore(data, threshold=3):\n",
    "    z_scores = stats.zscore(data)\n",
    "    return np.abs(z_scores) > threshold\n",
    "\n",
    "print(\"Аутлаеры в группе В:\", group_b[detect_outliers_zscore(group_b)])\n",
    "print(\"Аутлаеры в группе А:\", group_a[detect_outliers_zscore(group_a)])"
   ]
  },
  {
   "cell_type": "markdown",
   "metadata": {},
   "source": [
    "Ага, что и требовалось доказать. В группе А имеется 123 выброса, которые определенно стоит исключить из анализа, чтобы статистика показала более честные показатели <p> \n",
    "    (к этим выбросам мы еще вернемся)"
   ]
  },
  {
   "cell_type": "code",
   "execution_count": 173,
   "metadata": {},
   "outputs": [],
   "source": [
    "group_a_w = research.query('0 < revenue < 37000 and testgroup == \"a\"').revenue"
   ]
  },
  {
   "cell_type": "code",
   "execution_count": 174,
   "metadata": {},
   "outputs": [
    {
     "data": {
      "image/png": "[encoded data removed]",
      "text/plain": [
       "<Figure size 432x288 with 1 Axes>"
      ]
     },
     "metadata": {
      "needs_background": "light"
     },
     "output_type": "display_data"
    }
   ],
   "source": [
    "plt.title('Группа А')\n",
    "sns.histplot(group_a_w)\n",
    "plt.show()\n"
   ]
  },
  {
   "cell_type": "code",
   "execution_count": 175,
   "metadata": {},
   "outputs": [
    {
     "data": {
      "image/png": "[encoded data removed]",
      "text/plain": [
       "<Figure size 432x288 with 1 Axes>"
      ]
     },
     "metadata": {
      "needs_background": "light"
     },
     "output_type": "display_data"
    }
   ],
   "source": [
    "plt.title('Группа B')\n",
    "sns.histplot(group_b)\n",
    "plt.show()"
   ]
  },
  {
   "cell_type": "markdown",
   "metadata": {},
   "source": [
    "К сожалению, нормальностью распределения тут и не пахнет, но едва ли это можно поменять (из значений видно, что логарифмирование не сильно изменит картину) <p>\n",
    "    Но унывать не стоит - проведению t-теста это не помешает так сильно, как аутлаеры <p>\n",
    "     \n",
    "        Спойлер: уже на этом этапе становится очевидным, что группа B имеет ARPPU значительно выше и даже без \n",
    "        теста очевидно, что это различие статистически значимо \n",
    "    \n",
    "    "
   ]
  },
  {
   "cell_type": "code",
   "execution_count": 176,
   "metadata": {},
   "outputs": [
    {
     "data": {
      "text/plain": [
       "Ttest_indResult(statistic=-199.39722533995328, pvalue=0.0)"
      ]
     },
     "execution_count": 176,
     "metadata": {},
     "output_type": "execute_result"
    }
   ],
   "source": [
    "stats.ttest_ind(group_a_w, group_b)"
   ]
  },
  {
   "cell_type": "markdown",
   "metadata": {},
   "source": [
    "P-value < 0.05, а значит отклоняем нулевую гипотезу об отсутствии стат. значимых различий <p>\n",
    "Значение отрицательное, а значит группа B у нас предлагает среднее значение ARPPU выше"
   ]
  },
  {
   "cell_type": "markdown",
   "metadata": {},
   "source": [
    "А теперь давайте вернемся к выбросам и посмотрим на них подробнее"
   ]
  },
  {
   "cell_type": "code",
   "execution_count": 177,
   "metadata": {},
   "outputs": [
    {
     "data": {
      "image/png": "[encoded data removed]",
      "text/plain": [
       "<Figure size 432x288 with 1 Axes>"
      ]
     },
     "metadata": {
      "needs_background": "light"
     },
     "output_type": "display_data"
    }
   ],
   "source": [
    "sns.histplot(research.query('revenue > 37000 and testgroup == \"a\"').revenue)\n",
    "plt.show()"
   ]
  },
  {
   "cell_type": "markdown",
   "metadata": {},
   "source": [
    "Сначала у меня была гипотеза, что просто в группу A мог попасть кит, который один совершил такие дорогие покупки, но я уже успел проверить количество уникальных пользователей - это все разные люди"
   ]
  },
  {
   "cell_type": "code",
   "execution_count": 178,
   "metadata": {},
   "outputs": [
    {
     "data": {
      "text/plain": [
       "1.0"
      ]
     },
     "execution_count": 178,
     "metadata": {},
     "output_type": "execute_result"
    }
   ],
   "source": [
    "research.user_id.nunique() / research.user_id.count()"
   ]
  },
  {
   "cell_type": "markdown",
   "metadata": {},
   "source": [
    "Поэтому мое второе предположение, что в наборе акционных предложений группы A есть конкретное предложение (или группа предложений), которые побуждают совершать такую дорогую покупку. Но как мне кажется, это одно конкретное предложение на около 37300 рублей, поскольку именно к этой сумме тяготеют данные, а правая ассиметрия говорит, что меньше никто из них не заплатил, а динамика вправо скорее всего результат еще пары небольших покупок некоторых пользователей (или комиссии, но это не суть важно) <p>\n",
    "    Проще говоря, эти 123 наблюдения надо анализировать отдельно"
   ]
  },
  {
   "cell_type": "markdown",
   "metadata": {},
   "source": [
    "Теперь перейдем к конверсии в платящего пользователя \n",
    "#### Conversion Rate"
   ]
  },
  {
   "cell_type": "code",
   "execution_count": 179,
   "metadata": {},
   "outputs": [
    {
     "name": "stdout",
     "output_type": "stream",
     "text": [
      "Конверсия в группе А: 0.95%\n",
      "Конверсия в группе B: 0.89%\n"
     ]
    }
   ],
   "source": [
    "conv_a = round(group_a.count() / research.query('testgroup == \"a\"').user_id.count() * 100, 2)\n",
    "conv_b = round(group_b.count() / research.query('testgroup == \"b\"').user_id.count() * 100, 2)\n",
    "print(f\"Конверсия в группе А: {conv_a}%\")\n",
    "print(f\"Конверсия в группе B: {conv_b}%\")"
   ]
  },
  {
   "cell_type": "markdown",
   "metadata": {},
   "source": [
    "В группе А значение конверсии немного больше, но стоит проверить это на стат. значимость "
   ]
  },
  {
   "cell_type": "markdown",
   "metadata": {},
   "source": [
    "Давайте добавим столбик с dummy variables в датасет, чтобы провести тест "
   ]
  },
  {
   "cell_type": "code",
   "execution_count": 180,
   "metadata": {},
   "outputs": [
    {
     "data": {
      "text/html": [
       "<div>\n",
       "<style scoped>\n",
       "    .dataframe tbody tr th:only-of-type {\n",
       "        vertical-align: middle;\n",
       "    }\n",
       "\n",
       "    .dataframe tbody tr th {\n",
       "        vertical-align: top;\n",
       "    }\n",
       "\n",
       "    .dataframe thead th {\n",
       "        text-align: right;\n",
       "    }\n",
       "</style>\n",
       "<table border=\"1\" class=\"dataframe\">\n",
       "  <thead>\n",
       "    <tr style=\"text-align: right;\">\n",
       "      <th></th>\n",
       "      <th>user_id</th>\n",
       "      <th>revenue</th>\n",
       "      <th>testgroup</th>\n",
       "      <th>dummy</th>\n",
       "    </tr>\n",
       "  </thead>\n",
       "  <tbody>\n",
       "    <tr>\n",
       "      <th>0</th>\n",
       "      <td>1</td>\n",
       "      <td>0</td>\n",
       "      <td>b</td>\n",
       "      <td>0</td>\n",
       "    </tr>\n",
       "    <tr>\n",
       "      <th>1</th>\n",
       "      <td>2</td>\n",
       "      <td>0</td>\n",
       "      <td>a</td>\n",
       "      <td>0</td>\n",
       "    </tr>\n",
       "    <tr>\n",
       "      <th>2</th>\n",
       "      <td>3</td>\n",
       "      <td>0</td>\n",
       "      <td>a</td>\n",
       "      <td>0</td>\n",
       "    </tr>\n",
       "    <tr>\n",
       "      <th>3</th>\n",
       "      <td>4</td>\n",
       "      <td>0</td>\n",
       "      <td>b</td>\n",
       "      <td>0</td>\n",
       "    </tr>\n",
       "    <tr>\n",
       "      <th>4</th>\n",
       "      <td>5</td>\n",
       "      <td>0</td>\n",
       "      <td>b</td>\n",
       "      <td>0</td>\n",
       "    </tr>\n",
       "  </tbody>\n",
       "</table>\n",
       "</div>"
      ],
      "text/plain": [
       "   user_id  revenue testgroup dummy\n",
       "0        1        0         b     0\n",
       "1        2        0         a     0\n",
       "2        3        0         a     0\n",
       "3        4        0         b     0\n",
       "4        5        0         b     0"
      ]
     },
     "execution_count": 180,
     "metadata": {},
     "output_type": "execute_result"
    }
   ],
   "source": [
    "dummy = []\n",
    "for i in research.revenue:\n",
    "    if i == 0:\n",
    "        dummy.append('0')\n",
    "    else:\n",
    "        dummy.append('1')\n",
    "research['dummy'] = dummy\n",
    "\n",
    "research.head()"
   ]
  },
  {
   "cell_type": "markdown",
   "metadata": {},
   "source": [
    "Так как эта переменная категориальная, то нам подойдет критерий хи-квадрат. Соберем для него таблицу сопряженности и проведем тест"
   ]
  },
  {
   "cell_type": "code",
   "execution_count": 181,
   "metadata": {},
   "outputs": [
    {
     "name": "stdout",
     "output_type": "stream",
     "text": [
      "p_value: 0.03647561892312613\n"
     ]
    }
   ],
   "source": [
    "chi = pd.crosstab(research['testgroup'], research['dummy'])\n",
    "print(f\"p_value: {stats.chi2_contingency(chi)[1]}\")"
   ]
  },
  {
   "cell_type": "markdown",
   "metadata": {},
   "source": [
    "P-value у нас меньше 0.05, а значит отклоняем нулевую гипотезу об отсутствии стат. значимых различий в CR "
   ]
  },
  {
   "cell_type": "markdown",
   "metadata": {},
   "source": [
    "И по быстрому перед выводом давайте посмотрим, что будет, если исключить выбросы"
   ]
  },
  {
   "cell_type": "code",
   "execution_count": 182,
   "metadata": {},
   "outputs": [
    {
     "name": "stdout",
     "output_type": "stream",
     "text": [
      "p_value: 0.9316668591658103\n"
     ]
    }
   ],
   "source": [
    "research_w = research.query('revenue < 37000')\n",
    "chi_w = pd.crosstab(research_w['testgroup'], research_w['dummy'])\n",
    "print(f\"p_value: {stats.chi2_contingency(chi_w)[1]}\")"
   ]
  },
  {
   "cell_type": "markdown",
   "metadata": {},
   "source": [
    "Стат. значимой разницы - нет"
   ]
  },
  {
   "cell_type": "markdown",
   "metadata": {},
   "source": [
    "### Вывод\n",
    "\n",
    "Как мир не делится на черное и белое, так и по результатам этого теста нельзя сказать, что нужно выбрать один из наборов, а про другой забыть. Давайте коротко вспомним основные выводы: \n",
    "\n",
    "- **ARPPU** больше у группы B (где то в 10 раз)\n",
    "- **Conversion Rate** больше у группы А \n",
    "\n",
    "НО! Группа А содержит много выбросов, которые корректно рассматривать отдельно, поэтому если исключить их из анализа, то получим: \n",
    "- **CR** у групп статистически не отличаются \n",
    "\n",
    "На мой взгляд, стоит определенно вводить набор из тестовой группы B, но в тоже время проанализировать 123 наблюдения из контрольной группы А, чтобы определить, какое именно предложение способствовало большой покупке. Определив это предложение, надо интегрировать его в набор тестовой группы В\n",
    "\n"
   ]
  },
  {
   "cell_type": "markdown",
   "metadata": {},
   "source": [
    "## Задание 3\n",
    "#### В игре Plants & Gardens каждый месяц проводятся тематические события, ограниченные по времени. В них игроки могут получить уникальные предметы для сада и персонажей, дополнительные монеты или бонусы. Для получения награды требуется пройти ряд уровней за определенное время. С помощью каких метрик можно оценить результаты последнего прошедшего события?\n",
    "\n",
    "#### Предположим, в другом событии мы усложнили механику событий так, что при каждой неудачной попытке выполнения уровня игрок будет откатываться на несколько уровней назад. Изменится ли набор метрик оценки результата? Если да, то как?"
   ]
  },
  {
   "cell_type": "markdown",
   "metadata": {},
   "source": [
    "Метрики для оценки последнего прошедшего события:\n",
    "\n",
    "- **DAU (Daily Active Users)** и **Retention** - обе метрики по сути показывают то, с какой активностью люди заходят в игру ежедневно. DAU даст абсолютные значения, а retention - относительные. Если показатели сохраняются высокими в течение долгого периода, то можно сказать, что событие отлично удерживает аудиторию \n",
    "- **Conversion Rate** - тут стоит, конечно, определиться с тем, какое действие мы будем отслеживать. Например, можно анализировать конверсию в покупку (акция ограничена по времени, а значит люди могут теоретически торопиться получить уникальные предметы), или конверсию в получение награды, чтобы оценить, насколько сложно игрокам добиться успеха\n",
    "- **ARPU (Average Revenue Per User)** - раз мы позволяем игрокам бесплатно получать монеты и бонусы, то стоит рассмотреть, не в ущерб ли это доходу компании \n",
    "- **Average Session Count** - поможет узнать, увеличивается ли количество заходов пользователей в игру \n",
    "- **Average Session Length** - а тут можно узнать, увеличивается ли длительность сессий пользователей \n",
    "\n",
    "Метрики для усложненной механики:\n",
    "\n",
    "- **Среднее число откатов** - покажет, насколько часто пользователи сталкиваются с неудачей \n",
    "- **Churn Rate после отката (внутри одной сессии)** - нужно понимать, насколько критически сказывается откат на желании пользователя играть дальше\n",
    "- **Среднее время между сессиями** - перепрохождение одних и тех же испытаний может наскучивать, из за чего пользователи могут оттягивать момент повторной попытки\n",
    "\n",
    "Метрики, предложенные до этого, останутся все актуальны, но очевидно, что ценность их информации будет выше при сравнении показателей с и без новой механики"
   ]
  }
 ],
 "metadata": {
  "kernelspec": {
   "display_name": "Python 3",
   "language": "python",
   "name": "python3"
  },
  "language_info": {
   "codemirror_mode": {
    "name": "ipython",
    "version": 3
   },
   "file_extension": ".py",
   "mimetype": "text/x-python",
   "name": "python",
   "nbconvert_exporter": "python",
   "pygments_lexer": "ipython3",
   "version": "3.7.3"
  }
 },
 "nbformat": 4,
 "nbformat_minor": 4
}
